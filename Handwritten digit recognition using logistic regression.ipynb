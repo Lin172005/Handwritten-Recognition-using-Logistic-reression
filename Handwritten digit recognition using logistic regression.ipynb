{
  "nbformat": 4,
  "nbformat_minor": 0,
  "metadata": {
    "colab": {
      "provenance": []
    },
    "kernelspec": {
      "name": "python3",
      "display_name": "Python 3"
    },
    "language_info": {
      "name": "python"
    }
  },
  "cells": [
    {
      "cell_type": "code",
      "execution_count": null,
      "metadata": {
        "id": "uqzHmAV-1nBN"
      },
      "outputs": [],
      "source": [
        "\n",
        "import torch\n",
        "import torchvision\n",
        "from torchvision.datasets import MNIST"
      ]
    },
    {
      "cell_type": "code",
      "source": [
        "# Download training dataset\n",
        "dataset = MNIST(root='data/', download=True)"
      ],
      "metadata": {
        "colab": {
          "base_uri": "https://localhost:8080/"
        },
        "id": "Ya6Bmvj11_ug",
        "outputId": "fd300fd0-f162-4fc3-d724-ea70352afbd3"
      },
      "execution_count": null,
      "outputs": [
        {
          "output_type": "stream",
          "name": "stdout",
          "text": [
            "Downloading http://yann.lecun.com/exdb/mnist/train-images-idx3-ubyte.gz\n",
            "Downloading http://yann.lecun.com/exdb/mnist/train-images-idx3-ubyte.gz to data/MNIST/raw/train-images-idx3-ubyte.gz\n"
          ]
        },
        {
          "output_type": "stream",
          "name": "stderr",
          "text": [
            "100%|██████████| 9912422/9912422 [05:04<00:00, 32536.02it/s]\n"
          ]
        },
        {
          "output_type": "stream",
          "name": "stdout",
          "text": [
            "Extracting data/MNIST/raw/train-images-idx3-ubyte.gz to data/MNIST/raw\n",
            "\n",
            "Downloading http://yann.lecun.com/exdb/mnist/train-labels-idx1-ubyte.gz\n",
            "Downloading http://yann.lecun.com/exdb/mnist/train-labels-idx1-ubyte.gz to data/MNIST/raw/train-labels-idx1-ubyte.gz\n"
          ]
        },
        {
          "output_type": "stream",
          "name": "stderr",
          "text": [
            "100%|██████████| 28881/28881 [00:00<00:00, 158245.75it/s]\n"
          ]
        },
        {
          "output_type": "stream",
          "name": "stdout",
          "text": [
            "Extracting data/MNIST/raw/train-labels-idx1-ubyte.gz to data/MNIST/raw\n",
            "\n",
            "Downloading http://yann.lecun.com/exdb/mnist/t10k-images-idx3-ubyte.gz\n",
            "Downloading http://yann.lecun.com/exdb/mnist/t10k-images-idx3-ubyte.gz to data/MNIST/raw/t10k-images-idx3-ubyte.gz\n"
          ]
        },
        {
          "output_type": "stream",
          "name": "stderr",
          "text": [
            "100%|██████████| 1648877/1648877 [00:50<00:00, 32964.40it/s]\n"
          ]
        },
        {
          "output_type": "stream",
          "name": "stdout",
          "text": [
            "Extracting data/MNIST/raw/t10k-images-idx3-ubyte.gz to data/MNIST/raw\n",
            "\n",
            "Downloading http://yann.lecun.com/exdb/mnist/t10k-labels-idx1-ubyte.gz\n",
            "Downloading http://yann.lecun.com/exdb/mnist/t10k-labels-idx1-ubyte.gz to data/MNIST/raw/t10k-labels-idx1-ubyte.gz\n"
          ]
        },
        {
          "output_type": "stream",
          "name": "stderr",
          "text": [
            "100%|██████████| 4542/4542 [00:00<00:00, 12950733.36it/s]"
          ]
        },
        {
          "output_type": "stream",
          "name": "stdout",
          "text": [
            "Extracting data/MNIST/raw/t10k-labels-idx1-ubyte.gz to data/MNIST/raw\n",
            "\n"
          ]
        },
        {
          "output_type": "stream",
          "name": "stderr",
          "text": [
            "\n"
          ]
        }
      ]
    },
    {
      "cell_type": "code",
      "source": [
        "# Download training dataset\n",
        "dataset = MNIST(root='data/', download=True)"
      ],
      "metadata": {
        "id": "02jXXjlw2DzY"
      },
      "execution_count": null,
      "outputs": []
    },
    {
      "cell_type": "code",
      "source": [
        "len(dataset)"
      ],
      "metadata": {
        "colab": {
          "base_uri": "https://localhost:8080/"
        },
        "id": "PKUcMwk32Gh9",
        "outputId": "d5da7f9f-a4d3-412b-af91-42f441f39aad"
      },
      "execution_count": null,
      "outputs": [
        {
          "output_type": "execute_result",
          "data": {
            "text/plain": [
              "60000"
            ]
          },
          "metadata": {},
          "execution_count": 4
        }
      ]
    },
    {
      "cell_type": "code",
      "source": [
        "test_dataset = MNIST(root='data/', train=False)\n",
        "len(test_dataset)"
      ],
      "metadata": {
        "colab": {
          "base_uri": "https://localhost:8080/"
        },
        "id": "xuK26dLc2KGX",
        "outputId": "f2161f7a-00c8-4930-fc2b-b90c4deada1b"
      },
      "execution_count": null,
      "outputs": [
        {
          "output_type": "execute_result",
          "data": {
            "text/plain": [
              "10000"
            ]
          },
          "metadata": {},
          "execution_count": 5
        }
      ]
    },
    {
      "cell_type": "code",
      "source": [
        "dataset[0]"
      ],
      "metadata": {
        "colab": {
          "base_uri": "https://localhost:8080/"
        },
        "id": "h1a_y1Pz2NUW",
        "outputId": "99e68dae-ca39-4f52-ea7f-6d1c4abe8f82"
      },
      "execution_count": null,
      "outputs": [
        {
          "output_type": "execute_result",
          "data": {
            "text/plain": [
              "(<PIL.Image.Image image mode=L size=28x28>, 5)"
            ]
          },
          "metadata": {},
          "execution_count": 6
        }
      ]
    },
    {
      "cell_type": "code",
      "source": [
        "import matplotlib.pyplot as plt\n",
        "%matplotlib inline"
      ],
      "metadata": {
        "id": "sDpSmnVI2Pdd"
      },
      "execution_count": null,
      "outputs": []
    },
    {
      "cell_type": "code",
      "source": [
        "image, label = dataset[0]\n",
        "plt.imshow(image, cmap='gray')\n",
        "print('Label:', label)"
      ],
      "metadata": {
        "colab": {
          "base_uri": "https://localhost:8080/",
          "height": 448
        },
        "id": "n20Zt_8G2Rgj",
        "outputId": "e0957372-397a-4b90-aa0c-17c5d6339559"
      },
      "execution_count": null,
      "outputs": [
        {
          "output_type": "stream",
          "name": "stdout",
          "text": [
            "Label: 5\n"
          ]
        },
        {
          "output_type": "display_data",
          "data": {
            "text/plain": [
              "<Figure size 640x480 with 1 Axes>"
            ],
            "image/png": "[encoded data removed]"
          },
          "metadata": {}
        }
      ]
    },
    {
      "cell_type": "code",
      "source": [
        "image, label = dataset[10]\n",
        "plt.imshow(image, cmap='gray')\n",
        "print('Label:', label)"
      ],
      "metadata": {
        "colab": {
          "base_uri": "https://localhost:8080/",
          "height": 448
        },
        "id": "rf3F-SCV2UrF",
        "outputId": "c85fda31-85be-44c4-8673-5c84ad758c71"
      },
      "execution_count": null,
      "outputs": [
        {
          "output_type": "stream",
          "name": "stdout",
          "text": [
            "Label: 3\n"
          ]
        },
        {
          "output_type": "display_data",
          "data": {
            "text/plain": [
              "<Figure size 640x480 with 1 Axes>"
            ],
            "image/png": "[encoded data removed]"
          },
          "metadata": {}
        }
      ]
    },
    {
      "cell_type": "code",
      "source": [
        "import torchvision.transforms as transforms"
      ],
      "metadata": {
        "id": "xqkwqnXE2W4Y"
      },
      "execution_count": null,
      "outputs": []
    },
    {
      "cell_type": "code",
      "source": [
        "# MNIST dataset (images and labels)\n",
        "dataset = MNIST(root='data/',\n",
        "                train=True,\n",
        "                transform=transforms.ToTensor())"
      ],
      "metadata": {
        "id": "AeilUeuT2YUE"
      },
      "execution_count": null,
      "outputs": []
    },
    {
      "cell_type": "code",
      "source": [
        "img_tensor, label = dataset[0]\n",
        "print(img_tensor.shape, label)"
      ],
      "metadata": {
        "colab": {
          "base_uri": "https://localhost:8080/"
        },
        "id": "eigiTgeQ2bpN",
        "outputId": "97e33aa3-aa9d-4019-fba0-6b8b16e49d9b"
      },
      "execution_count": null,
      "outputs": [
        {
          "output_type": "stream",
          "name": "stdout",
          "text": [
            "torch.Size([1, 28, 28]) 5\n"
          ]
        }
      ]
    },
    {
      "cell_type": "code",
      "source": [
        "print(img_tensor[0,10:15,10:15])\n",
        "print(torch.max(img_tensor), torch.min(img_tensor))"
      ],
      "metadata": {
        "colab": {
          "base_uri": "https://localhost:8080/"
        },
        "id": "QzGnYZLI2fMY",
        "outputId": "b66d9d8a-f0a8-45d0-c495-3423a8623ac7"
      },
      "execution_count": null,
      "outputs": [
        {
          "output_type": "stream",
          "name": "stdout",
          "text": [
            "tensor([[0.0039, 0.6039, 0.9922, 0.3529, 0.0000],\n",
            "        [0.0000, 0.5451, 0.9922, 0.7451, 0.0078],\n",
            "        [0.0000, 0.0431, 0.7451, 0.9922, 0.2745],\n",
            "        [0.0000, 0.0000, 0.1373, 0.9451, 0.8824],\n",
            "        [0.0000, 0.0000, 0.0000, 0.3176, 0.9412]])\n",
            "tensor(1.) tensor(0.)\n"
          ]
        }
      ]
    },
    {
      "cell_type": "code",
      "source": [
        "# Plot the image by passing in the 28x28 matrix\n",
        "plt.imshow(img_tensor[0,10:15,10:15], cmap='gray');"
      ],
      "metadata": {
        "colab": {
          "base_uri": "https://localhost:8080/",
          "height": 430
        },
        "id": "Gx4nLNCj2f4p",
        "outputId": "536b916c-6a2d-4500-b810-564c1bf66ce3"
      },
      "execution_count": null,
      "outputs": [
        {
          "output_type": "display_data",
          "data": {
            "text/plain": [
              "<Figure size 640x480 with 1 Axes>"
            ],
            "image/png": "[encoded data removed]"
          },
          "metadata": {}
        }
      ]
    },
    {
      "cell_type": "code",
      "source": [
        "from torch.utils.data import random_split\n",
        "\n",
        "train_ds, val_ds = random_split(dataset, [50000, 10000])\n",
        "len(train_ds), len(val_ds)"
      ],
      "metadata": {
        "colab": {
          "base_uri": "https://localhost:8080/"
        },
        "id": "t2cNItE32kiR",
        "outputId": "a787a1e4-61ae-404b-99db-282b5192810f"
      },
      "execution_count": null,
      "outputs": [
        {
          "output_type": "execute_result",
          "data": {
            "text/plain": [
              "(50000, 10000)"
            ]
          },
          "metadata": {},
          "execution_count": 15
        }
      ]
    },
    {
      "cell_type": "code",
      "source": [
        "from torch.utils.data import DataLoader\n",
        "\n",
        "batch_size = 128\n",
        "\n",
        "train_loader = DataLoader(train_ds, batch_size, shuffle=True)\n",
        "val_loader = DataLoader(val_ds, batch_size)"
      ],
      "metadata": {
        "id": "xiij2VNw2mWU"
      },
      "execution_count": null,
      "outputs": []
    },
    {
      "cell_type": "code",
      "source": [
        "import torch.nn as nn\n",
        "\n",
        "input_size = 28*28\n",
        "num_classes = 10\n",
        "\n",
        "# Logistic regression model\n",
        "model = nn.Linear(input_size, num_classes)"
      ],
      "metadata": {
        "id": "RHVEwFx52pks"
      },
      "execution_count": null,
      "outputs": []
    },
    {
      "cell_type": "code",
      "source": [
        "print(model.weight.shape)\n",
        "model.weight"
      ],
      "metadata": {
        "colab": {
          "base_uri": "https://localhost:8080/"
        },
        "id": "vR4EE8vn2s4n",
        "outputId": "ce66fe55-797d-4db6-d5e3-2bfe8d2ca468"
      },
      "execution_count": null,
      "outputs": [
        {
          "output_type": "stream",
          "name": "stdout",
          "text": [
            "torch.Size([10, 784])\n"
          ]
        },
        {
          "output_type": "execute_result",
          "data": {
            "text/plain": [
              "Parameter containing:\n",
              "tensor([[ 0.0006, -0.0159, -0.0021,  ..., -0.0241,  0.0354, -0.0108],\n",
              "        [ 0.0127,  0.0083,  0.0005,  ..., -0.0161, -0.0305, -0.0038],\n",
              "        [ 0.0293,  0.0341, -0.0295,  ..., -0.0301,  0.0106, -0.0346],\n",
              "        ...,\n",
              "        [ 0.0345,  0.0301,  0.0353,  ..., -0.0208,  0.0330, -0.0257],\n",
              "        [-0.0009, -0.0296,  0.0214,  ..., -0.0228, -0.0103, -0.0335],\n",
              "        [-0.0059,  0.0150,  0.0160,  ..., -0.0305,  0.0292, -0.0175]],\n",
              "       requires_grad=True)"
            ]
          },
          "metadata": {},
          "execution_count": 18
        }
      ]
    },
    {
      "cell_type": "code",
      "source": [
        "print(model.bias.shape)\n",
        "model.bias"
      ],
      "metadata": {
        "colab": {
          "base_uri": "https://localhost:8080/"
        },
        "id": "h9LOxo532xho",
        "outputId": "6f1b109c-1600-4d49-de99-72e944a910ce"
      },
      "execution_count": null,
      "outputs": [
        {
          "output_type": "stream",
          "name": "stdout",
          "text": [
            "torch.Size([10])\n"
          ]
        },
        {
          "output_type": "execute_result",
          "data": {
            "text/plain": [
              "Parameter containing:\n",
              "tensor([-0.0251,  0.0293,  0.0312, -0.0043, -0.0277, -0.0006, -0.0118,  0.0027,\n",
              "         0.0050, -0.0118], requires_grad=True)"
            ]
          },
          "metadata": {},
          "execution_count": 19
        }
      ]
    },
    {
      "cell_type": "code",
      "source": [
        "for images, labels in train_loader:\n",
        "    print(labels)\n",
        "    print(images.shape)\n",
        "    outputs = model(images)\n",
        "    print(outputs)\n",
        "    break"
      ],
      "metadata": {
        "id": "rPAD7oRk2zai"
      },
      "execution_count": null,
      "outputs": []
    },
    {
      "cell_type": "code",
      "source": [],
      "metadata": {
        "id": "U9lJmGjq2197"
      },
      "execution_count": null,
      "outputs": []
    },
    {
      "cell_type": "code",
      "source": [
        "images.shape"
      ],
      "metadata": {
        "colab": {
          "base_uri": "https://localhost:8080/"
        },
        "id": "SagBgzLw21uy",
        "outputId": "a86362b3-3aa9-4516-aaf5-7b1e4abe7de0"
      },
      "execution_count": null,
      "outputs": [
        {
          "output_type": "execute_result",
          "data": {
            "text/plain": [
              "torch.Size([128, 1, 28, 28])"
            ]
          },
          "metadata": {},
          "execution_count": 21
        }
      ]
    },
    {
      "cell_type": "code",
      "source": [
        "images.reshape(128, 784).shape"
      ],
      "metadata": {
        "colab": {
          "base_uri": "https://localhost:8080/"
        },
        "id": "2lrkcT6b23oB",
        "outputId": "a5b48d82-b63c-4f90-e240-49fbddb5a378"
      },
      "execution_count": null,
      "outputs": [
        {
          "output_type": "execute_result",
          "data": {
            "text/plain": [
              "torch.Size([128, 784])"
            ]
          },
          "metadata": {},
          "execution_count": 22
        }
      ]
    },
    {
      "cell_type": "code",
      "source": [
        "class MnistModel(nn.Module):\n",
        "    def __init__(self):\n",
        "        super().__init__()\n",
        "        self.linear = nn.Linear(input_size, num_classes)\n",
        "\n",
        "    def forward(self, xb):\n",
        "        xb = xb.reshape(-1, 784)\n",
        "        out = self.linear(xb)\n",
        "        return out\n",
        "\n",
        "model = MnistModel()"
      ],
      "metadata": {
        "id": "2Cni3X_328fn"
      },
      "execution_count": null,
      "outputs": []
    },
    {
      "cell_type": "code",
      "source": [
        "model.linear"
      ],
      "metadata": {
        "colab": {
          "base_uri": "https://localhost:8080/"
        },
        "id": "QT3XSWux2-mF",
        "outputId": "f031e766-ba92-46a2-e66a-080b61637263"
      },
      "execution_count": null,
      "outputs": [
        {
          "output_type": "execute_result",
          "data": {
            "text/plain": [
              "Linear(in_features=784, out_features=10, bias=True)"
            ]
          },
          "metadata": {},
          "execution_count": 24
        }
      ]
    },
    {
      "cell_type": "code",
      "source": [
        "print(model.linear.weight.shape, model.linear.bias.shape)\n",
        "list(model.parameters())"
      ],
      "metadata": {
        "colab": {
          "base_uri": "https://localhost:8080/"
        },
        "id": "GFnGZ8z92_oO",
        "outputId": "618cb9a5-b087-4e50-b481-646d7c4688d1"
      },
      "execution_count": null,
      "outputs": [
        {
          "output_type": "stream",
          "name": "stdout",
          "text": [
            "torch.Size([10, 784]) torch.Size([10])\n"
          ]
        },
        {
          "output_type": "execute_result",
          "data": {
            "text/plain": [
              "[Parameter containing:\n",
              " tensor([[-0.0207,  0.0091, -0.0125,  ...,  0.0307, -0.0073,  0.0195],\n",
              "         [ 0.0312,  0.0210, -0.0031,  ...,  0.0029,  0.0069,  0.0183],\n",
              "         [ 0.0033,  0.0163, -0.0215,  ...,  0.0129, -0.0062,  0.0106],\n",
              "         ...,\n",
              "         [-0.0219,  0.0299, -0.0089,  ..., -0.0345, -0.0148, -0.0209],\n",
              "         [-0.0038, -0.0245,  0.0178,  ..., -0.0205,  0.0221, -0.0128],\n",
              "         [-0.0238, -0.0212,  0.0019,  ..., -0.0235,  0.0143, -0.0272]],\n",
              "        requires_grad=True),\n",
              " Parameter containing:\n",
              " tensor([-0.0171, -0.0145,  0.0297,  0.0176,  0.0317, -0.0175, -0.0175, -0.0318,\n",
              "         -0.0304, -0.0224], requires_grad=True)]"
            ]
          },
          "metadata": {},
          "execution_count": 25
        }
      ]
    },
    {
      "cell_type": "code",
      "source": [
        "for images, labels in train_loader:\n",
        "    print(images.shape)\n",
        "    outputs = model(images)\n",
        "    break\n",
        "\n",
        "print('outputs.shape : ', outputs.shape)\n",
        "print('Sample outputs :\\n', outputs[:2].data)"
      ],
      "metadata": {
        "colab": {
          "base_uri": "https://localhost:8080/"
        },
        "id": "lBaBkJ973BOB",
        "outputId": "8b758b20-f1c6-4864-b684-99426664bb78"
      },
      "execution_count": null,
      "outputs": [
        {
          "output_type": "stream",
          "name": "stdout",
          "text": [
            "torch.Size([128, 1, 28, 28])\n",
            "outputs.shape :  torch.Size([128, 10])\n",
            "Sample outputs :\n",
            " tensor([[-0.1038, -0.2471, -0.2829,  0.2492,  0.3210, -0.4007, -0.1245, -0.0456,\n",
            "         -0.0527, -0.0304],\n",
            "        [-0.2190,  0.2701, -0.2707,  0.1802,  0.3533,  0.0265, -0.0532, -0.2326,\n",
            "         -0.2121,  0.0517]])\n"
          ]
        }
      ]
    },
    {
      "cell_type": "code",
      "source": [
        "import torch.nn.functional as F"
      ],
      "metadata": {
        "id": "A75tEdoQ3GB4"
      },
      "execution_count": null,
      "outputs": []
    },
    {
      "cell_type": "code",
      "source": [
        "outputs[:2]"
      ],
      "metadata": {
        "colab": {
          "base_uri": "https://localhost:8080/"
        },
        "id": "NWSvpk5V3IFA",
        "outputId": "e82e66a1-6f34-4591-da1c-31e7ef4f58a5"
      },
      "execution_count": null,
      "outputs": [
        {
          "output_type": "execute_result",
          "data": {
            "text/plain": [
              "tensor([[-0.1038, -0.2471, -0.2829,  0.2492,  0.3210, -0.4007, -0.1245, -0.0456,\n",
              "         -0.0527, -0.0304],\n",
              "        [-0.2190,  0.2701, -0.2707,  0.1802,  0.3533,  0.0265, -0.0532, -0.2326,\n",
              "         -0.2121,  0.0517]], grad_fn=<SliceBackward0>)"
            ]
          },
          "metadata": {},
          "execution_count": 28
        }
      ]
    },
    {
      "cell_type": "code",
      "source": [
        "# Apply softmax for each output row\n",
        "probs = F.softmax(outputs, dim=1)\n",
        "\n",
        "# Look at sample probabilities\n",
        "print(\"Sample probabilities:\\n\", probs[:2].data)\n",
        "\n",
        "# Add up the probabilities of an output row\n",
        "print(\"Sum: \", torch.sum(probs[0]).item())"
      ],
      "metadata": {
        "colab": {
          "base_uri": "https://localhost:8080/"
        },
        "id": "VFai284e3KHs",
        "outputId": "ff5f809f-6881-4816-d8c7-6ff8eca85c7e"
      },
      "execution_count": null,
      "outputs": [
        {
          "output_type": "stream",
          "name": "stdout",
          "text": [
            "Sample probabilities:\n",
            " tensor([[0.0946, 0.0820, 0.0791, 0.1347, 0.1447, 0.0703, 0.0927, 0.1003, 0.0996,\n",
            "         0.1018],\n",
            "        [0.0793, 0.1294, 0.0753, 0.1182, 0.1406, 0.1014, 0.0936, 0.0783, 0.0799,\n",
            "         0.1040]])\n",
            "Sum:  1.0000001192092896\n"
          ]
        }
      ]
    },
    {
      "cell_type": "code",
      "source": [
        "max_probs, preds = torch.max(probs, dim=1)\n",
        "print(preds)\n",
        "print(max_probs)"
      ],
      "metadata": {
        "colab": {
          "base_uri": "https://localhost:8080/"
        },
        "id": "rcozSPI93K5X",
        "outputId": "bb7da009-0155-44ed-ef13-2b3a86ffdb02"
      },
      "execution_count": null,
      "outputs": [
        {
          "output_type": "stream",
          "name": "stdout",
          "text": [
            "tensor([4, 4, 3, 4, 1, 3, 9, 3, 3, 3, 4, 1, 3, 4, 1, 4, 4, 1, 1, 7, 1, 3, 9, 3,\n",
            "        8, 1, 3, 3, 1, 1, 1, 7, 3, 1, 1, 4, 3, 1, 3, 4, 1, 3, 3, 1, 3, 3, 3, 4,\n",
            "        3, 3, 3, 1, 1, 4, 4, 1, 3, 3, 3, 1, 4, 1, 3, 4, 3, 3, 3, 3, 9, 3, 1, 4,\n",
            "        3, 1, 1, 4, 4, 9, 1, 1, 6, 1, 3, 3, 3, 3, 3, 3, 8, 3, 3, 1, 4, 4, 3, 1,\n",
            "        4, 1, 1, 1, 1, 1, 6, 3, 3, 3, 1, 4, 3, 3, 3, 3, 3, 8, 7, 1, 1, 3, 3, 3,\n",
            "        4, 1, 3, 3, 3, 3, 3, 4])\n",
            "tensor([0.1447, 0.1406, 0.1308, 0.1409, 0.1596, 0.1191, 0.1226, 0.1274, 0.1400,\n",
            "        0.1523, 0.1524, 0.1373, 0.1480, 0.1194, 0.1578, 0.1429, 0.1281, 0.1490,\n",
            "        0.1207, 0.1323, 0.1184, 0.1492, 0.1329, 0.1248, 0.1212, 0.1360, 0.1355,\n",
            "        0.1527, 0.1224, 0.1432, 0.1332, 0.1304, 0.1289, 0.1314, 0.1476, 0.1273,\n",
            "        0.1686, 0.1599, 0.1645, 0.1531, 0.1310, 0.1385, 0.1314, 0.1383, 0.1242,\n",
            "        0.1167, 0.1362, 0.1244, 0.1168, 0.1269, 0.1588, 0.1533, 0.1461, 0.1169,\n",
            "        0.1852, 0.1918, 0.1391, 0.1472, 0.1337, 0.1246, 0.1280, 0.1439, 0.1381,\n",
            "        0.1230, 0.1315, 0.1179, 0.1764, 0.1375, 0.1203, 0.1678, 0.1309, 0.1295,\n",
            "        0.1236, 0.1465, 0.1390, 0.1197, 0.1394, 0.1241, 0.1219, 0.1583, 0.1178,\n",
            "        0.1470, 0.1336, 0.1402, 0.1287, 0.1511, 0.1273, 0.1487, 0.1409, 0.1368,\n",
            "        0.1174, 0.1588, 0.1395, 0.1351, 0.1337, 0.1344, 0.1263, 0.1318, 0.1187,\n",
            "        0.1383, 0.1313, 0.1291, 0.1148, 0.1218, 0.1174, 0.1382, 0.1231, 0.1333,\n",
            "        0.1205, 0.1274, 0.1452, 0.1214, 0.1369, 0.1326, 0.1283, 0.1355, 0.1174,\n",
            "        0.1372, 0.1812, 0.1147, 0.1205, 0.1276, 0.1440, 0.1377, 0.1361, 0.1320,\n",
            "        0.1666, 0.1611], grad_fn=<MaxBackward0>)\n"
          ]
        }
      ]
    },
    {
      "cell_type": "code",
      "source": [
        "labels"
      ],
      "metadata": {
        "colab": {
          "base_uri": "https://localhost:8080/"
        },
        "id": "UoBj5jeV3NQ4",
        "outputId": "7b4a5a71-828a-4ee3-e4bf-e4e4c73ae7ce"
      },
      "execution_count": null,
      "outputs": [
        {
          "output_type": "execute_result",
          "data": {
            "text/plain": [
              "tensor([1, 7, 1, 6, 6, 1, 0, 8, 7, 1, 2, 0, 6, 8, 6, 7, 0, 8, 9, 8, 4, 8, 4, 6,\n",
              "        7, 5, 8, 4, 4, 2, 7, 3, 4, 4, 6, 7, 3, 6, 0, 3, 2, 3, 3, 6, 3, 8, 1, 1,\n",
              "        9, 0, 0, 3, 4, 6, 2, 5, 1, 6, 8, 4, 9, 6, 1, 9, 1, 9, 3, 1, 4, 0, 6, 2,\n",
              "        4, 6, 4, 9, 7, 6, 4, 6, 0, 5, 1, 1, 7, 0, 5, 3, 2, 4, 2, 6, 2, 1, 3, 3,\n",
              "        7, 5, 9, 5, 4, 4, 4, 6, 2, 1, 9, 7, 1, 1, 1, 9, 1, 5, 1, 6, 8, 0, 3, 7,\n",
              "        2, 6, 6, 0, 0, 7, 3, 0])"
            ]
          },
          "metadata": {},
          "execution_count": 32
        }
      ]
    },
    {
      "cell_type": "code",
      "source": [
        "outputs[:2]"
      ],
      "metadata": {
        "colab": {
          "base_uri": "https://localhost:8080/"
        },
        "id": "xJCcjy-63Prs",
        "outputId": "d9484a84-be5d-407d-f875-84aaa8e6c993"
      },
      "execution_count": null,
      "outputs": [
        {
          "output_type": "execute_result",
          "data": {
            "text/plain": [
              "tensor([[-0.1038, -0.2471, -0.2829,  0.2492,  0.3210, -0.4007, -0.1245, -0.0456,\n",
              "         -0.0527, -0.0304],\n",
              "        [-0.2190,  0.2701, -0.2707,  0.1802,  0.3533,  0.0265, -0.0532, -0.2326,\n",
              "         -0.2121,  0.0517]], grad_fn=<SliceBackward0>)"
            ]
          },
          "metadata": {},
          "execution_count": 33
        }
      ]
    },
    {
      "cell_type": "code",
      "source": [
        "torch.sum(preds == labels)"
      ],
      "metadata": {
        "colab": {
          "base_uri": "https://localhost:8080/"
        },
        "id": "Cfqv0aKA3SSq",
        "outputId": "582095c6-22ff-47f0-bcda-0456a5de6b84"
      },
      "execution_count": null,
      "outputs": [
        {
          "output_type": "execute_result",
          "data": {
            "text/plain": [
              "tensor(9)"
            ]
          },
          "metadata": {},
          "execution_count": 34
        }
      ]
    },
    {
      "cell_type": "markdown",
      "source": [
        "evaluation metric and loss function\n"
      ],
      "metadata": {
        "id": "xfNP_j26VzHV"
      }
    },
    {
      "cell_type": "code",
      "source": [
        "def accuracy(outputs, labels):\n",
        "    _, preds = torch.max(outputs, dim=1)\n",
        "    return torch.tensor(torch.sum(preds == labels).item() / len(preds))"
      ],
      "metadata": {
        "id": "3XxFw1iX3UeM"
      },
      "execution_count": null,
      "outputs": []
    },
    {
      "cell_type": "code",
      "source": [
        "accuracy(outputs, labels)"
      ],
      "metadata": {
        "colab": {
          "base_uri": "https://localhost:8080/"
        },
        "id": "idfaSFob3XXM",
        "outputId": "4943b8ae-f40c-44b9-b2b7-e6831bdf8e9a"
      },
      "execution_count": null,
      "outputs": [
        {
          "output_type": "execute_result",
          "data": {
            "text/plain": [
              "tensor(0.0703)"
            ]
          },
          "metadata": {},
          "execution_count": 36
        }
      ]
    },
    {
      "cell_type": "code",
      "source": [
        "probs"
      ],
      "metadata": {
        "colab": {
          "base_uri": "https://localhost:8080/"
        },
        "id": "uN4fBLES3Y78",
        "outputId": "208f9870-e6c8-49b4-8932-45715e2a4d5b"
      },
      "execution_count": null,
      "outputs": [
        {
          "output_type": "execute_result",
          "data": {
            "text/plain": [
              "tensor([[0.0946, 0.0820, 0.0791,  ..., 0.1003, 0.0996, 0.1018],\n",
              "        [0.0793, 0.1294, 0.0753,  ..., 0.0783, 0.0799, 0.1040],\n",
              "        [0.0905, 0.0906, 0.0786,  ..., 0.0982, 0.0984, 0.0981],\n",
              "        ...,\n",
              "        [0.0898, 0.1088, 0.1067,  ..., 0.0841, 0.0868, 0.1063],\n",
              "        [0.0722, 0.0877, 0.1073,  ..., 0.0950, 0.0851, 0.0880],\n",
              "        [0.0967, 0.1611, 0.0832,  ..., 0.0692, 0.0825, 0.0810]],\n",
              "       grad_fn=<SoftmaxBackward0>)"
            ]
          },
          "metadata": {},
          "execution_count": 37
        }
      ]
    },
    {
      "cell_type": "code",
      "source": [
        "outputs"
      ],
      "metadata": {
        "colab": {
          "base_uri": "https://localhost:8080/"
        },
        "id": "URJEaCKC3bew",
        "outputId": "3ec917ea-76df-4983-9095-06462f313f5f"
      },
      "execution_count": null,
      "outputs": [
        {
          "output_type": "execute_result",
          "data": {
            "text/plain": [
              "tensor([[-0.1038, -0.2471, -0.2829,  ..., -0.0456, -0.0527, -0.0304],\n",
              "        [-0.2190,  0.2701, -0.2707,  ..., -0.2326, -0.2121,  0.0517],\n",
              "        [-0.1588, -0.1577, -0.2996,  ..., -0.0768, -0.0748, -0.0774],\n",
              "        ...,\n",
              "        [-0.1301,  0.0617,  0.0419,  ..., -0.1960, -0.1648,  0.0385],\n",
              "        [-0.3636, -0.1696,  0.0323,  ..., -0.0899, -0.1996, -0.1657],\n",
              "        [ 0.0537,  0.5637, -0.0972,  ..., -0.2815, -0.1056, -0.1239]],\n",
              "       grad_fn=<AddmmBackward0>)"
            ]
          },
          "metadata": {},
          "execution_count": 38
        }
      ]
    },
    {
      "cell_type": "code",
      "source": [
        "loss_fn = F.cross_entropy"
      ],
      "metadata": {
        "id": "oX0ytgsZ3deG"
      },
      "execution_count": null,
      "outputs": []
    },
    {
      "cell_type": "code",
      "source": [
        "# Loss for current batch of data\n",
        "loss = loss_fn(outputs, labels)\n",
        "print(loss)"
      ],
      "metadata": {
        "colab": {
          "base_uri": "https://localhost:8080/"
        },
        "id": "bsyaAfuf3fQU",
        "outputId": "ec032e06-6edd-4054-bc9d-8a4343e85226"
      },
      "execution_count": null,
      "outputs": [
        {
          "output_type": "stream",
          "name": "stdout",
          "text": [
            "tensor(2.3330, grad_fn=<NllLossBackward0>)\n"
          ]
        }
      ]
    },
    {
      "cell_type": "code",
      "source": [
        "def fit(epochs, lr, model, train_loader, val_loader, opt_func=torch.optim.SGD):\n",
        "    optimizer = opt_func(model.parameters(), lr)\n",
        "    history = [] # for recording epoch-wise results\n",
        "\n",
        "    for epoch in range(epochs):\n",
        "\n",
        "        # Training Phase\n",
        "        for batch in train_loader:\n",
        "            loss = model.training_step(batch)\n",
        "            loss.backward()\n",
        "            optimizer.step()\n",
        "            optimizer.zero_grad()\n",
        "\n",
        "        # Validation phase\n",
        "        result = evaluate(model, val_loader)\n",
        "        model.epoch_end(epoch, result)\n",
        "        history.append(result)\n",
        "\n",
        "    return history"
      ],
      "metadata": {
        "id": "M1uohAdR3i2F"
      },
      "execution_count": null,
      "outputs": []
    },
    {
      "cell_type": "code",
      "source": [
        "l1 = [1, 2, 3, 4, 5]"
      ],
      "metadata": {
        "id": "Vawfq0IS3mfV"
      },
      "execution_count": null,
      "outputs": []
    },
    {
      "cell_type": "code",
      "source": [
        "l2 = [x*2 for x in l1]\n",
        "l2"
      ],
      "metadata": {
        "colab": {
          "base_uri": "https://localhost:8080/"
        },
        "id": "vdRnV_Of3oWM",
        "outputId": "a09f0cf5-5a62-4539-f024-6c4857df81de"
      },
      "execution_count": null,
      "outputs": [
        {
          "output_type": "execute_result",
          "data": {
            "text/plain": [
              "[2, 4, 6, 8, 10]"
            ]
          },
          "metadata": {},
          "execution_count": 45
        }
      ]
    },
    {
      "cell_type": "code",
      "source": [
        "def evaluate(model, val_loader):\n",
        "    outputs = [model.validation_step(batch) for batch in val_loader]\n",
        "    return model.validation_epoch_end(outputs)"
      ],
      "metadata": {
        "id": "5khvTYvz3rPo"
      },
      "execution_count": null,
      "outputs": []
    },
    {
      "cell_type": "code",
      "source": [
        "class MnistModel(nn.Module):\n",
        "    def __init__(self):\n",
        "        super().__init__()\n",
        "        self.linear = nn.Linear(input_size, num_classes)\n",
        "\n",
        "    def forward(self, xb):\n",
        "        xb = xb.reshape(-1, 784)\n",
        "        out = self.linear(xb)\n",
        "        return out\n",
        "\n",
        "    def training_step(self, batch):\n",
        "        images, labels = batch\n",
        "        out = self(images)                  # Generate predictions\n",
        "        loss = F.cross_entropy(out, labels) # Calculate loss\n",
        "        return loss\n",
        "\n",
        "    def validation_step(self, batch):\n",
        "        images, labels = batch\n",
        "        out = self(images)                    # Generate predictions\n",
        "        loss = F.cross_entropy(out, labels)   # Calculate loss\n",
        "        acc = accuracy(out, labels)           # Calculate accuracy\n",
        "        return {'val_loss': loss, 'val_acc': acc}\n",
        "\n",
        "    def validation_epoch_end(self, outputs):\n",
        "        batch_losses = [x['val_loss'] for x in outputs]\n",
        "        epoch_loss = torch.stack(batch_losses).mean()   # Combine losses\n",
        "        batch_accs = [x['val_acc'] for x in outputs]\n",
        "        epoch_acc = torch.stack(batch_accs).mean()      # Combine accuracies\n",
        "        return {'val_loss': epoch_loss.item(), 'val_acc': epoch_acc.item()}\n",
        "\n",
        "    def epoch_end(self, epoch, result):\n",
        "        print(\"Epoch [{}], val_loss: {:.4f}, val_acc: {:.4f}\".format(epoch, result['val_loss'], result['val_acc']))\n",
        "\n",
        "model = MnistModel()"
      ],
      "metadata": {
        "id": "l5N04g_j3x2a"
      },
      "execution_count": null,
      "outputs": []
    },
    {
      "cell_type": "code",
      "source": [
        "result0 = evaluate(model, val_loader)\n",
        "result0"
      ],
      "metadata": {
        "colab": {
          "base_uri": "https://localhost:8080/"
        },
        "id": "se6OzIdv30Pm",
        "outputId": "fa70f59a-be75-4a7d-9e1c-d6703f8753be"
      },
      "execution_count": null,
      "outputs": [
        {
          "output_type": "execute_result",
          "data": {
            "text/plain": [
              "{'val_loss': 2.3583450317382812, 'val_acc': 0.04994066432118416}"
            ]
          },
          "metadata": {},
          "execution_count": 47
        }
      ]
    },
    {
      "cell_type": "code",
      "source": [
        "history1 = fit(5, 0.001, model, train_loader, val_loader)"
      ],
      "metadata": {
        "colab": {
          "base_uri": "https://localhost:8080/"
        },
        "id": "NDOyFKVR3118",
        "outputId": "7e4159f8-bfaf-43cd-e628-06ed8eb73bff"
      },
      "execution_count": null,
      "outputs": [
        {
          "output_type": "stream",
          "name": "stdout",
          "text": [
            "Epoch [0], val_loss: 1.9755, val_acc: 0.6263\n",
            "Epoch [1], val_loss: 1.7022, val_acc: 0.7226\n",
            "Epoch [2], val_loss: 1.4977, val_acc: 0.7574\n",
            "Epoch [3], val_loss: 1.3430, val_acc: 0.7780\n",
            "Epoch [4], val_loss: 1.2242, val_acc: 0.7903\n"
          ]
        }
      ]
    },
    {
      "cell_type": "code",
      "source": [
        "history2 = fit(5, 0.001, model, train_loader, val_loader)"
      ],
      "metadata": {
        "colab": {
          "base_uri": "https://localhost:8080/"
        },
        "id": "LLZ0O33Z33Ve",
        "outputId": "4fd763a4-846c-4134-dfcc-fc1663a80e2d"
      },
      "execution_count": null,
      "outputs": [
        {
          "output_type": "stream",
          "name": "stdout",
          "text": [
            "Epoch [0], val_loss: 1.1309, val_acc: 0.7992\n",
            "Epoch [1], val_loss: 1.0562, val_acc: 0.8058\n",
            "Epoch [2], val_loss: 0.9952, val_acc: 0.8113\n",
            "Epoch [3], val_loss: 0.9444, val_acc: 0.8170\n",
            "Epoch [4], val_loss: 0.9016, val_acc: 0.8234\n"
          ]
        }
      ]
    },
    {
      "cell_type": "code",
      "source": [
        "history3 = fit(5, 0.001, model, train_loader, val_loader)"
      ],
      "metadata": {
        "colab": {
          "base_uri": "https://localhost:8080/"
        },
        "id": "bX6PXSiI35Oy",
        "outputId": "b20ccedd-267a-4fef-92be-557244962057"
      },
      "execution_count": null,
      "outputs": [
        {
          "output_type": "stream",
          "name": "stdout",
          "text": [
            "Epoch [0], val_loss: 0.8650, val_acc: 0.8267\n",
            "Epoch [1], val_loss: 0.8333, val_acc: 0.8301\n",
            "Epoch [2], val_loss: 0.8055, val_acc: 0.8332\n",
            "Epoch [3], val_loss: 0.7811, val_acc: 0.8365\n",
            "Epoch [4], val_loss: 0.7593, val_acc: 0.8386\n"
          ]
        }
      ]
    },
    {
      "cell_type": "code",
      "source": [
        "history4 = fit(5, 0.001, model, train_loader, val_loader)"
      ],
      "metadata": {
        "colab": {
          "base_uri": "https://localhost:8080/"
        },
        "id": "2XcLgMI-360a",
        "outputId": "06cc5a9b-66d8-4318-cfd1-dc4541e1fbcc"
      },
      "execution_count": null,
      "outputs": [
        {
          "output_type": "stream",
          "name": "stdout",
          "text": [
            "Epoch [0], val_loss: 0.7397, val_acc: 0.8396\n",
            "Epoch [1], val_loss: 0.7221, val_acc: 0.8411\n",
            "Epoch [2], val_loss: 0.7061, val_acc: 0.8427\n",
            "Epoch [3], val_loss: 0.6916, val_acc: 0.8432\n",
            "Epoch [4], val_loss: 0.6782, val_acc: 0.8451\n"
          ]
        }
      ]
    },
    {
      "cell_type": "code",
      "source": [
        "history = [result0] + history1 + history2 + history3 + history4\n",
        "accuracies = [result['val_acc'] for result in history]\n",
        "plt.plot(accuracies, '-x')\n",
        "plt.xlabel('epoch')\n",
        "plt.ylabel('accuracy')\n",
        "plt.title('Accuracy vs. No. of epochs');"
      ],
      "metadata": {
        "colab": {
          "base_uri": "https://localhost:8080/",
          "height": 472
        },
        "id": "KnDE-cZ338kE",
        "outputId": "b6364ce6-03c4-4e76-ae53-09399d564974"
      },
      "execution_count": null,
      "outputs": [
        {
          "output_type": "display_data",
          "data": {
            "text/plain": [
              "<Figure size 640x480 with 1 Axes>"
            ],
            "image/png": "[encoded data removed]"
          },
          "metadata": {}
        }
      ]
    },
    {
      "cell_type": "code",
      "source": [
        "# Define test dataset\n",
        "test_dataset = MNIST(root='data/',\n",
        "                     train=False,\n",
        "                     transform=transforms.ToTensor())"
      ],
      "metadata": {
        "id": "riLTw0dH3-6u"
      },
      "execution_count": null,
      "outputs": []
    },
    {
      "cell_type": "code",
      "source": [
        "img, label = test_dataset[0]\n",
        "plt.imshow(img[0], cmap='gray')\n",
        "print('Shape:', img.shape)\n",
        "print('Label:', label)"
      ],
      "metadata": {
        "colab": {
          "base_uri": "https://localhost:8080/",
          "height": 466
        },
        "id": "j_xT5jmN3_ie",
        "outputId": "481b6e1e-b109-44c1-f739-9518c9eb5e7a"
      },
      "execution_count": null,
      "outputs": [
        {
          "output_type": "stream",
          "name": "stdout",
          "text": [
            "Shape: torch.Size([1, 28, 28])\n",
            "Label: 7\n"
          ]
        },
        {
          "output_type": "display_data",
          "data": {
            "text/plain": [
              "<Figure size 640x480 with 1 Axes>"
            ],
            "image/png": "[encoded data removed]"
          },
          "metadata": {}
        }
      ]
    },
    {
      "cell_type": "code",
      "source": [
        "def predict_image(img, model):\n",
        "    xb = img.unsqueeze(0)\n",
        "    yb = model(xb)\n",
        "    _, preds = torch.max(yb, dim=1)\n",
        "    return preds[0].item()"
      ],
      "metadata": {
        "id": "uCJFaQsS4Bo1"
      },
      "execution_count": null,
      "outputs": []
    },
    {
      "cell_type": "code",
      "source": [
        "img, label = test_dataset[0]\n",
        "plt.imshow(img[0], cmap='gray')\n",
        "print('Label:', label, ', Predicted:', predict_image(img, model))"
      ],
      "metadata": {
        "colab": {
          "base_uri": "https://localhost:8080/",
          "height": 448
        },
        "id": "DZcI5rjN4Ff2",
        "outputId": "e6ecff0c-c1a2-4cc8-f87b-83738e16631a"
      },
      "execution_count": null,
      "outputs": [
        {
          "output_type": "stream",
          "name": "stdout",
          "text": [
            "Label: 7 , Predicted: 7\n"
          ]
        },
        {
          "output_type": "display_data",
          "data": {
            "text/plain": [
              "<Figure size 640x480 with 1 Axes>"
            ],
            "image/png": "[encoded data removed]"
          },
          "metadata": {}
        }
      ]
    },
    {
      "cell_type": "code",
      "source": [
        "img, label = test_dataset[10]\n",
        "plt.imshow(img[0], cmap='gray')\n",
        "print('Label:', label, ', Predicted:', predict_image(img, model))"
      ],
      "metadata": {
        "colab": {
          "base_uri": "https://localhost:8080/",
          "height": 448
        },
        "id": "ktVLBcTp4HWr",
        "outputId": "8b373fd5-879b-4116-c1f9-04f9126c75c6"
      },
      "execution_count": null,
      "outputs": [
        {
          "output_type": "stream",
          "name": "stdout",
          "text": [
            "Label: 0 , Predicted: 0\n"
          ]
        },
        {
          "output_type": "display_data",
          "data": {
            "text/plain": [
              "<Figure size 640x480 with 1 Axes>"
            ],
            "image/png": "[encoded data removed]"
          },
          "metadata": {}
        }
      ]
    },
    {
      "cell_type": "code",
      "source": [
        "img, label = test_dataset[193]\n",
        "plt.imshow(img[0], cmap='gray')\n",
        "print('Label:', label, ', Predicted:', predict_image(img, model))"
      ],
      "metadata": {
        "colab": {
          "base_uri": "https://localhost:8080/",
          "height": 448
        },
        "id": "l3ZZxNq84JlA",
        "outputId": "9108f817-2cb7-4397-f35d-5a4dadb410e8"
      },
      "execution_count": null,
      "outputs": [
        {
          "output_type": "stream",
          "name": "stdout",
          "text": [
            "Label: 9 , Predicted: 4\n"
          ]
        },
        {
          "output_type": "display_data",
          "data": {
            "text/plain": [
              "<Figure size 640x480 with 1 Axes>"
            ],
            "image/png": "[encoded data removed]"
          },
          "metadata": {}
        }
      ]
    },
    {
      "cell_type": "code",
      "source": [
        "img, label = test_dataset[1839]\n",
        "plt.imshow(img[0], cmap='gray')\n",
        "print('Label:', label, ', Predicted:', predict_image(img, model))"
      ],
      "metadata": {
        "colab": {
          "base_uri": "https://localhost:8080/",
          "height": 448
        },
        "id": "6AQsvkPV4Let",
        "outputId": "5acc3be1-6ca7-439a-c01e-ebbcb21364da"
      },
      "execution_count": null,
      "outputs": [
        {
          "output_type": "stream",
          "name": "stdout",
          "text": [
            "Label: 2 , Predicted: 8\n"
          ]
        },
        {
          "output_type": "display_data",
          "data": {
            "text/plain": [
              "<Figure size 640x480 with 1 Axes>"
            ],
            "image/png": "[encoded data removed]"
          },
          "metadata": {}
        }
      ]
    },
    {
      "cell_type": "code",
      "source": [
        "test_loader = DataLoader(test_dataset, batch_size=256)\n",
        "result = evaluate(model, test_loader)\n",
        "result"
      ],
      "metadata": {
        "colab": {
          "base_uri": "https://localhost:8080/"
        },
        "id": "IEi-BHSL4NUz",
        "outputId": "b1eb45f7-5f4c-4df0-ea47-63f5a590b46c"
      },
      "execution_count": null,
      "outputs": [
        {
          "output_type": "execute_result",
          "data": {
            "text/plain": [
              "{'val_loss': 0.643386960029602, 'val_acc': 0.8614257574081421}"
            ]
          },
          "metadata": {},
          "execution_count": 60
        }
      ]
    }
  ]
}